{
 "cells": [
  {
   "cell_type": "markdown",
   "metadata": {},
   "source": [
    "## 『本次練習內容』\n",
    "#### 運用這幾天所學觀念搭建一個CNN分類器"
   ]
  },
  {
   "cell_type": "markdown",
   "metadata": {},
   "source": [
    "## 『本次練習目的』\n",
    "  #### 熟悉CNN分類器搭建步驟與原理\n",
    "  #### 學員們可以嘗試不同搭法，如使用不同的Maxpooling層，用GlobalAveragePooling取代Flatten等等"
   ]
  },
  {
   "cell_type": "code",
   "execution_count": 1,
   "metadata": {},
   "outputs": [
    {
     "name": "stderr",
     "output_type": "stream",
     "text": [
      "Using TensorFlow backend.\n"
     ]
    }
   ],
   "source": [
    "from keras.models import Sequential\n",
    "from keras.layers import Convolution2D\n",
    "from keras.layers import MaxPooling2D\n",
    "from keras.layers import Flatten\n",
    "from keras.layers import Dense\n",
    "from keras.layers import Dropout\n",
    "from keras.layers import BatchNormalization\n",
    "from keras.datasets import cifar10\n",
    "import numpy as np\n",
    "import tensorflow as tf\n",
    "from sklearn.preprocessing import OneHotEncoder\n"
   ]
  },
  {
   "cell_type": "code",
   "execution_count": 2,
   "metadata": {},
   "outputs": [
    {
     "name": "stdout",
     "output_type": "stream",
     "text": [
      "(50000, 32, 32, 3)\n"
     ]
    }
   ],
   "source": [
    "(x_train, y_train), (x_test, y_test) = cifar10.load_data()\n",
    "\n",
    "print(x_train.shape) #(50000, 32, 32, 3)\n",
    "\n",
    "## Normalize Data\n",
    "def normalize(X_train,X_test):\n",
    "        mean = np.mean(X_train,axis=(0,1,2,3))\n",
    "        std = np.std(X_train, axis=(0, 1, 2, 3))\n",
    "        X_train = (X_train-mean)/(std+1e-7)\n",
    "        X_test = (X_test-mean)/(std+1e-7) \n",
    "        return X_train, X_test,mean,std\n",
    "    \n",
    "    \n",
    "## Normalize Training and Testset    \n",
    "x_train, x_test,mean_train,std_train = normalize(x_train, x_test) "
   ]
  },
  {
   "cell_type": "code",
   "execution_count": 3,
   "metadata": {},
   "outputs": [
    {
     "name": "stderr",
     "output_type": "stream",
     "text": [
      "C:\\ProgramData\\Anaconda3\\lib\\site-packages\\sklearn\\preprocessing\\_encoders.py:415: FutureWarning: The handling of integer data will change in version 0.22. Currently, the categories are determined based on the range [0, max(values)], while in the future they will be determined based on the unique values.\n",
      "If you want the future behaviour and silence this warning, you can specify \"categories='auto'\".\n",
      "In case you used a LabelEncoder before this OneHotEncoder to convert the categories to integers, then you can now use the OneHotEncoder directly.\n",
      "  warnings.warn(msg, FutureWarning)\n"
     ]
    }
   ],
   "source": [
    "## OneHot Label 由(None, 1)-(None, 10)\n",
    "## ex. label=2,變成[0,0,1,0,0,0,0,0,0,0]\n",
    "one_hot=OneHotEncoder()\n",
    "y_train=one_hot.fit_transform(y_train).toarray()\n",
    "y_test=one_hot.transform(y_test).toarray()"
   ]
  },
  {
   "cell_type": "code",
   "execution_count": 5,
   "metadata": {},
   "outputs": [
    {
     "name": "stderr",
     "output_type": "stream",
     "text": [
      "C:\\ProgramData\\Anaconda3\\lib\\site-packages\\ipykernel_launcher.py:25: UserWarning: Update your `Dense` call to the Keras 2 API: `Dense(activation=\"softmax\", units=10)`\n"
     ]
    },
    {
     "name": "stdout",
     "output_type": "stream",
     "text": [
      "Epoch 1/100\n",
      "50000/50000 [==============================] - 76s 2ms/step - loss: 1.2790 - accuracy: 0.5565\n",
      "Epoch 2/100\n",
      "50000/50000 [==============================] - 74s 1ms/step - loss: 0.8221 - accuracy: 0.7112\n",
      "Epoch 3/100\n",
      "50000/50000 [==============================] - 74s 1ms/step - loss: 0.5880 - accuracy: 0.7922\n",
      "Epoch 4/100\n",
      "50000/50000 [==============================] - 74s 1ms/step - loss: 0.3890 - accuracy: 0.8636\n",
      "Epoch 5/100\n",
      "50000/50000 [==============================] - 74s 1ms/step - loss: 0.2510 - accuracy: 0.9141\n",
      "Epoch 6/100\n",
      "50000/50000 [==============================] - 74s 1ms/step - loss: 0.1686 - accuracy: 0.9419\n",
      "Epoch 7/100\n",
      "50000/50000 [==============================] - 74s 1ms/step - loss: 0.1243 - accuracy: 0.9572\n",
      "Epoch 8/100\n",
      "50000/50000 [==============================] - 75s 1ms/step - loss: 0.1219 - accuracy: 0.9580\n",
      "Epoch 9/100\n",
      "50000/50000 [==============================] - 88s 2ms/step - loss: 0.1037 - accuracy: 0.9644A: 11s \n",
      "Epoch 10/100\n",
      "50000/50000 [==============================] - 95s 2ms/step - loss: 0.0881 - accuracy: 0.9697\n",
      "Epoch 11/100\n",
      "50000/50000 [==============================] - 87s 2ms/step - loss: 0.0670 - accuracy: 0.9774\n",
      "Epoch 12/100\n",
      "50000/50000 [==============================] - 89s 2ms/step - loss: 0.0736 - accuracy: 0.9758\n",
      "Epoch 13/100\n",
      "50000/50000 [==============================] - 89s 2ms/step - loss: 0.0704 - accuracy: 0.9761\n",
      "Epoch 14/100\n",
      "50000/50000 [==============================] - 88s 2ms/step - loss: 0.0641 - accuracy: 0.9788\n",
      "Epoch 15/100\n",
      "50000/50000 [==============================] - 88s 2ms/step - loss: 0.0524 - accuracy: 0.9829\n",
      "Epoch 16/100\n",
      "50000/50000 [==============================] - 80s 2ms/step - loss: 0.0540 - accuracy: 0.9818\n",
      "Epoch 17/100\n",
      "50000/50000 [==============================] - 87s 2ms/step - loss: 0.0525 - accuracy: 0.9826\n",
      "Epoch 18/100\n",
      "50000/50000 [==============================] - 88s 2ms/step - loss: 0.0432 - accuracy: 0.9857\n",
      "Epoch 19/100\n",
      "50000/50000 [==============================] - 88s 2ms/step - loss: 0.0409 - accuracy: 0.9861\n",
      "Epoch 20/100\n",
      "50000/50000 [==============================] - 92s 2ms/step - loss: 0.0484 - accuracy: 0.9837\n",
      "Epoch 21/100\n",
      "50000/50000 [==============================] - 85s 2ms/step - loss: 0.0469 - accuracy: 0.9842\n",
      "Epoch 22/100\n",
      "50000/50000 [==============================] - 89s 2ms/step - loss: 0.0405 - accuracy: 0.9870\n",
      "Epoch 23/100\n",
      "50000/50000 [==============================] - 84s 2ms/step - loss: 0.0380 - accuracy: 0.9876\n",
      "Epoch 24/100\n",
      "50000/50000 [==============================] - 85s 2ms/step - loss: 0.0431 - accuracy: 0.9861\n",
      "Epoch 25/100\n",
      "50000/50000 [==============================] - 84s 2ms/step - loss: 0.0336 - accuracy: 0.9890\n",
      "Epoch 26/100\n",
      "50000/50000 [==============================] - 91s 2ms/step - loss: 0.0343 - accuracy: 0.9886\n",
      "Epoch 27/100\n",
      "50000/50000 [==============================] - 91s 2ms/step - loss: 0.0414 - accuracy: 0.9872\n",
      "Epoch 28/100\n",
      "50000/50000 [==============================] - 89s 2ms/step - loss: 0.0434 - accuracy: 0.9871\n",
      "Epoch 29/100\n",
      "50000/50000 [==============================] - 89s 2ms/step - loss: 0.0178 - accuracy: 0.9941\n",
      "Epoch 30/100\n",
      "50000/50000 [==============================] - 84s 2ms/step - loss: 0.0308 - accuracy: 0.9902\n",
      "Epoch 31/100\n",
      "50000/50000 [==============================] - 83s 2ms/step - loss: 0.0260 - accuracy: 0.9913\n",
      "Epoch 32/100\n",
      "50000/50000 [==============================] - 83s 2ms/step - loss: 0.0279 - accuracy: 0.9910\n",
      "Epoch 33/100\n",
      "50000/50000 [==============================] - 79s 2ms/step - loss: 0.0368 - accuracy: 0.9884\n",
      "Epoch 34/100\n",
      "50000/50000 [==============================] - 85s 2ms/step - loss: 0.0310 - accuracy: 0.9904\n",
      "Epoch 35/100\n",
      "50000/50000 [==============================] - 83s 2ms/step - loss: 0.0288 - accuracy: 0.9908\n",
      "Epoch 36/100\n",
      "50000/50000 [==============================] - 88s 2ms/step - loss: 0.0203 - accuracy: 0.9931\n",
      "Epoch 37/100\n",
      "50000/50000 [==============================] - 86s 2ms/step - loss: 0.0239 - accuracy: 0.9928\n",
      "Epoch 38/100\n",
      "50000/50000 [==============================] - 80s 2ms/step - loss: 0.0303 - accuracy: 0.9904\n",
      "Epoch 39/100\n",
      "50000/50000 [==============================] - 78s 2ms/step - loss: 0.0206 - accuracy: 0.9937\n",
      "Epoch 40/100\n",
      "50000/50000 [==============================] - 78s 2ms/step - loss: 0.0223 - accuracy: 0.9928\n",
      "Epoch 41/100\n",
      "50000/50000 [==============================] - 79s 2ms/step - loss: 0.0208 - accuracy: 0.9934\n",
      "Epoch 42/100\n",
      "50000/50000 [==============================] - 88s 2ms/step - loss: 0.0244 - accuracy: 0.9924\n",
      "Epoch 43/100\n",
      "50000/50000 [==============================] - 84s 2ms/step - loss: 0.0233 - accuracy: 0.9929\n",
      "Epoch 44/100\n",
      "50000/50000 [==============================] - 84s 2ms/step - loss: 0.0248 - accuracy: 0.9921\n",
      "Epoch 45/100\n",
      "50000/50000 [==============================] - 84s 2ms/step - loss: 0.0250 - accuracy: 0.9926\n",
      "Epoch 46/100\n",
      "50000/50000 [==============================] - 86s 2ms/step - loss: 0.0174 - accuracy: 0.9944\n",
      "Epoch 47/100\n",
      "50000/50000 [==============================] - 82s 2ms/step - loss: 0.0188 - accuracy: 0.9943\n",
      "Epoch 48/100\n",
      "50000/50000 [==============================] - 83s 2ms/step - loss: 0.0274 - accuracy: 0.9922\n",
      "Epoch 49/100\n",
      "50000/50000 [==============================] - 88s 2ms/step - loss: 0.0227 - accuracy: 0.9935\n",
      "Epoch 50/100\n",
      "50000/50000 [==============================] - 89s 2ms/step - loss: 0.0187 - accuracy: 0.9942\n",
      "Epoch 51/100\n",
      "50000/50000 [==============================] - 89s 2ms/step - loss: 0.0171 - accuracy: 0.9947\n",
      "Epoch 52/100\n",
      "50000/50000 [==============================] - 90s 2ms/step - loss: 0.0166 - accuracy: 0.9949\n",
      "Epoch 53/100\n",
      "50000/50000 [==============================] - 89s 2ms/step - loss: 0.0176 - accuracy: 0.9945\n",
      "Epoch 54/100\n",
      "50000/50000 [==============================] - 90s 2ms/step - loss: 0.0192 - accuracy: 0.9942\n",
      "Epoch 55/100\n",
      "50000/50000 [==============================] - 87s 2ms/step - loss: 0.0244 - accuracy: 0.9929\n",
      "Epoch 56/100\n",
      "50000/50000 [==============================] - 91s 2ms/step - loss: 0.0197 - accuracy: 0.9939\n",
      "Epoch 57/100\n",
      "50000/50000 [==============================] - 88s 2ms/step - loss: 0.0150 - accuracy: 0.9957\n",
      "Epoch 58/100\n",
      "50000/50000 [==============================] - 88s 2ms/step - loss: 0.0082 - accuracy: 0.9974\n",
      "Epoch 59/100\n",
      "50000/50000 [==============================] - 89s 2ms/step - loss: 0.0153 - accuracy: 0.9952\n",
      "Epoch 60/100\n",
      "50000/50000 [==============================] - 91s 2ms/step - loss: 0.0176 - accuracy: 0.9948\n",
      "Epoch 61/100\n",
      "50000/50000 [==============================] - 92s 2ms/step - loss: 0.0208 - accuracy: 0.9940\n",
      "Epoch 62/100\n",
      "50000/50000 [==============================] - 92s 2ms/step - loss: 0.0228 - accuracy: 0.9931\n",
      "Epoch 63/100\n",
      "50000/50000 [==============================] - 93s 2ms/step - loss: 0.0150 - accuracy: 0.9955\n",
      "Epoch 64/100\n",
      "50000/50000 [==============================] - 78s 2ms/step - loss: 0.0105 - accuracy: 0.9965\n",
      "Epoch 65/100\n",
      "50000/50000 [==============================] - 81s 2ms/step - loss: 0.0098 - accuracy: 0.9970\n",
      "Epoch 66/100\n",
      "50000/50000 [==============================] - 81s 2ms/step - loss: 0.0212 - accuracy: 0.9938\n",
      "Epoch 67/100\n",
      "50000/50000 [==============================] - 82s 2ms/step - loss: 0.0247 - accuracy: 0.9928\n",
      "Epoch 68/100\n",
      "50000/50000 [==============================] - 82s 2ms/step - loss: 0.0133 - accuracy: 0.9959\n",
      "Epoch 69/100\n",
      "50000/50000 [==============================] - 82s 2ms/step - loss: 0.0093 - accuracy: 0.9972\n",
      "Epoch 70/100\n",
      "50000/50000 [==============================] - 82s 2ms/step - loss: 0.0113 - accuracy: 0.9962\n",
      "Epoch 71/100\n",
      "50000/50000 [==============================] - 77s 2ms/step - loss: 0.0179 - accuracy: 0.9946\n",
      "Epoch 72/100\n",
      "50000/50000 [==============================] - 73s 1ms/step - loss: 0.0202 - accuracy: 0.9941\n",
      "Epoch 73/100\n",
      "50000/50000 [==============================] - 81s 2ms/step - loss: 0.0140 - accuracy: 0.9961\n",
      "Epoch 74/100\n",
      "50000/50000 [==============================] - 82s 2ms/step - loss: 0.0111 - accuracy: 0.9965\n",
      "Epoch 75/100\n",
      "50000/50000 [==============================] - 83s 2ms/step - loss: 0.0136 - accuracy: 0.9960\n",
      "Epoch 76/100\n",
      "50000/50000 [==============================] - 82s 2ms/step - loss: 0.0147 - accuracy: 0.9957\n",
      "Epoch 77/100\n"
     ]
    },
    {
     "name": "stdout",
     "output_type": "stream",
     "text": [
      "50000/50000 [==============================] - 81s 2ms/step - loss: 0.0162 - accuracy: 0.9954\n",
      "Epoch 78/100\n",
      "50000/50000 [==============================] - 81s 2ms/step - loss: 0.0127 - accuracy: 0.9960\n",
      "Epoch 79/100\n",
      "50000/50000 [==============================] - 81s 2ms/step - loss: 0.0123 - accuracy: 0.9963\n",
      "Epoch 80/100\n",
      "50000/50000 [==============================] - 77s 2ms/step - loss: 0.0123 - accuracy: 0.9965\n",
      "Epoch 81/100\n",
      "50000/50000 [==============================] - 77s 2ms/step - loss: 0.0129 - accuracy: 0.9960\n",
      "Epoch 82/100\n",
      "50000/50000 [==============================] - 77s 2ms/step - loss: 0.0119 - accuracy: 0.9964\n",
      "Epoch 83/100\n",
      "50000/50000 [==============================] - 81s 2ms/step - loss: 0.0136 - accuracy: 0.9960\n",
      "Epoch 84/100\n",
      "50000/50000 [==============================] - 78s 2ms/step - loss: 0.0095 - accuracy: 0.9970\n",
      "Epoch 85/100\n",
      "50000/50000 [==============================] - 81s 2ms/step - loss: 0.0124 - accuracy: 0.9964\n",
      "Epoch 86/100\n",
      "50000/50000 [==============================] - 82s 2ms/step - loss: 0.0157 - accuracy: 0.9955\n",
      "Epoch 87/100\n",
      "50000/50000 [==============================] - 81s 2ms/step - loss: 0.0118 - accuracy: 0.9964\n",
      "Epoch 88/100\n",
      "50000/50000 [==============================] - 81s 2ms/step - loss: 0.0143 - accuracy: 0.9961\n",
      "Epoch 89/100\n",
      "50000/50000 [==============================] - 81s 2ms/step - loss: 0.0106 - accuracy: 0.9970\n",
      "Epoch 90/100\n",
      "50000/50000 [==============================] - 82s 2ms/step - loss: 0.0093 - accuracy: 0.9972\n",
      "Epoch 91/100\n",
      "50000/50000 [==============================] - 78s 2ms/step - loss: 0.0081 - accuracy: 0.9973\n",
      "Epoch 92/100\n",
      "50000/50000 [==============================] - 73s 1ms/step - loss: 0.0085 - accuracy: 0.9975\n",
      "Epoch 93/100\n",
      "50000/50000 [==============================] - 73s 1ms/step - loss: 0.0168 - accuracy: 0.9958\n",
      "Epoch 94/100\n",
      "50000/50000 [==============================] - 73s 1ms/step - loss: 0.0165 - accuracy: 0.9954\n",
      "Epoch 95/100\n",
      "50000/50000 [==============================] - 72s 1ms/step - loss: 0.0102 - accuracy: 0.9968\n",
      "Epoch 96/100\n",
      "50000/50000 [==============================] - 72s 1ms/step - loss: 0.0092 - accuracy: 0.9972\n",
      "Epoch 97/100\n",
      "50000/50000 [==============================] - 71s 1ms/step - loss: 0.0092 - accuracy: 0.9971\n",
      "Epoch 98/100\n",
      "50000/50000 [==============================] - 71s 1ms/step - loss: 0.0058 - accuracy: 0.9981\n",
      "Epoch 99/100\n",
      "50000/50000 [==============================] - 71s 1ms/step - loss: 0.0091 - accuracy: 0.9969\n",
      "Epoch 100/100\n",
      "50000/50000 [==============================] - 76s 2ms/step - loss: 0.0149 - accuracy: 0.9959\n"
     ]
    },
    {
     "data": {
      "text/plain": [
       "<keras.callbacks.callbacks.History at 0x20f52ef0688>"
      ]
     },
     "execution_count": 5,
     "metadata": {},
     "output_type": "execute_result"
    }
   ],
   "source": [
    "\n",
    "classifier=Sequential()\n",
    "\n",
    "#卷積組合\n",
    "classifier.add(Convolution2D(32,kernel_size=(3,3),padding='same',\n",
    "                input_shape=(32,32,3),activation='relu'))\n",
    "#32,3,3,input_shape=(32,32,3),activation='relu''\n",
    "classifier.add(BatchNormalization())\n",
    "\n",
    "'''自己決定MaxPooling2D放在哪裡'''\n",
    "classifier.add(MaxPooling2D(pool_size=(2,2)))\n",
    "\n",
    "#卷積組合\n",
    "classifier.add(Convolution2D(64,kernel_size=(3,3),\n",
    "                            activation='relu',padding='same'))\n",
    "classifier.add(BatchNormalization())\n",
    "\n",
    "#flatten\n",
    "classifier.add(Flatten())\n",
    "\n",
    "#FC\n",
    "classifier.add(Dense(units=100,activation='relu'))\n",
    "#output_dim=100,activation=relu\n",
    "\n",
    "#輸出\n",
    "classifier.add(Dense(output_dim=10,activation='softmax'))\n",
    "\n",
    "#超過兩個就要選categorical_crossentrophy\n",
    "classifier.compile(optimizer = 'adam', loss = 'categorical_crossentropy', metrics = ['accuracy'])\n",
    "classifier.fit(x_train,y_train,batch_size=100,epochs=100)"
   ]
  },
  {
   "cell_type": "markdown",
   "metadata": {},
   "source": [
    "## 預測新圖片，輸入影像前處理要與訓練時相同\n",
    "#### ((X-mean)/(std+1e-7) ):這裡的mean跟std是訓練集的\n",
    "## 維度如下方示範"
   ]
  },
  {
   "cell_type": "code",
   "execution_count": 6,
   "metadata": {},
   "outputs": [
    {
     "data": {
      "text/plain": [
       "array([[3.40618094e-08, 4.86692242e-09, 1.91050494e-04, 9.99704659e-01,\n",
       "        8.01315650e-07, 3.14036630e-10, 1.03397164e-04, 4.04927043e-08,\n",
       "        2.13191464e-09, 2.81728342e-14]], dtype=float32)"
      ]
     },
     "execution_count": 6,
     "metadata": {},
     "output_type": "execute_result"
    }
   ],
   "source": [
    "input_example=(np.zeros(shape=(1,32,32,3))-mean_train)/(std_train+1e-7) \n",
    "classifier.predict(input_example)"
   ]
  },
  {
   "cell_type": "code",
   "execution_count": null,
   "metadata": {},
   "outputs": [],
   "source": []
  }
 ],
 "metadata": {
  "kernelspec": {
   "display_name": "Python 3",
   "language": "python",
   "name": "python3"
  },
  "language_info": {
   "codemirror_mode": {
    "name": "ipython",
    "version": 3
   },
   "file_extension": ".py",
   "mimetype": "text/x-python",
   "name": "python",
   "nbconvert_exporter": "python",
   "pygments_lexer": "ipython3",
   "version": "3.7.4"
  }
 },
 "nbformat": 4,
 "nbformat_minor": 2
}
